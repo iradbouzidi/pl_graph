{
 "cells": [
  {
   "cell_type": "markdown",
   "metadata": {},
   "source": [
    "# Linear Programming using PuLP"
   ]
  },
  {
   "cell_type": "markdown",
   "metadata": {},
   "source": [
    "##  Minimization Problems"
   ]
  },
  {
   "cell_type": "markdown",
   "metadata": {},
   "source": [
    "### Exercice 1"
   ]
  },
  {
   "cell_type": "markdown",
   "metadata": {},
   "source": [
    "<img src=\"img/Screenshot_1.png\"/>"
   ]
  },
  {
   "cell_type": "markdown",
   "metadata": {},
   "source": [
    "#### Solution"
   ]
  },
  {
   "cell_type": "code",
   "execution_count": 1,
   "metadata": {},
   "outputs": [
    {
     "name": "stdout",
     "output_type": "stream",
     "text": [
      "LP problem:\n",
      "Giapetto:\n",
      "MINIMIZE\n",
      "36*x0 + 25*x12 + 25*x15 + 30*x18 + 30*x21 + 36*x3 + 36*x6 + 25*x9 + 0\n",
      "SUBJECT TO\n",
      "_C1: x0 + x18 + x21 >= 6\n",
      "\n",
      "_C2: x0 + x21 + x3 >= 4\n",
      "\n",
      "_C3: x0 + x3 + x6 >= 12\n",
      "\n",
      "_C4: x3 + x6 + x9 >= 20\n",
      "\n",
      "_C5: x12 + x6 + x9 >= 20\n",
      "\n",
      "_C6: x12 + x15 + x9 >= 24\n",
      "\n",
      "_C7: x12 + x15 + x18 >= 14\n",
      "\n",
      "_C8: x15 + x18 + x21 >= 14\n",
      "\n",
      "VARIABLES\n",
      "0 <= x0 Integer\n",
      "0 <= x12 Integer\n",
      "0 <= x15 Integer\n",
      "0 <= x18 Integer\n",
      "0 <= x21 Integer\n",
      "0 <= x3 Integer\n",
      "0 <= x6 Integer\n",
      "0 <= x9 Integer\n",
      "\n",
      "solution status:\n",
      "Optimal\n",
      "\n",
      "solution:\n",
      "x0 = 4.0\n",
      "x3 = 0.0\n",
      "x6 = 8.0\n",
      "x9 = 12.0\n",
      "x12 = 0.0\n",
      "x15 = 12.0\n",
      "x18 = 2.0\n",
      "x21 = 0.0\n",
      "Optimal Z =  1092.0\n"
     ]
    }
   ],
   "source": [
    "from pulp import *\n",
    "# Create a LP minimization problem\n",
    "prob = LpProblem(\"Giapetto\", LpMinimize)  \n",
    "\n",
    "# Create variables\n",
    "x0 = LpVariable(\"x0\", lowBound=0, cat='Integer') \n",
    "x3 = LpVariable(\"x3\", lowBound=0, cat='Integer')\n",
    "x6 = LpVariable(\"x6\", lowBound=0, cat='Integer') \n",
    "x9 = LpVariable(\"x9\", lowBound=0, cat='Integer')\n",
    "x12 = LpVariable(\"x12\", lowBound=0, cat='Integer') \n",
    "x15 = LpVariable(\"x15\", lowBound=0, cat='Integer')\n",
    "x18 = LpVariable(\"x18\", lowBound=0, cat='Integer') \n",
    "x21 = LpVariable(\"x21\", lowBound=0, cat='Integer')\n",
    "\n",
    "# Objective function\n",
    "prob += 36*x0 + 36*x3 + 36*x6 + 25*x9 + 25*x12 + 25*x15 + 30*x18 + 30*x21  \n",
    "\n",
    "# Sub constraints\n",
    "prob += x0 + x18 + x21 >= 6 \n",
    "prob += x0 + x3 + x21 >= 4 \n",
    "prob += x0 + x3 + x6 >= 12\n",
    "prob += x3 + x6 + x9 >= 20 \n",
    "prob += x6 + x9 + x12 >= 20\n",
    "prob += x9 + x12 + x15 >= 24 \n",
    "prob += x12 + x15 + x18 >= 14\n",
    "prob += x15 + x18 + x21 >= 14\n",
    "\n",
    "# Display the LP problem\n",
    "print('LP problem:')\n",
    "print(prob)\n",
    "\n",
    "# Solve with the default solver\n",
    "status = prob.solve()\n",
    "# Print the solution status\n",
    "print('solution status:')\n",
    "print(LpStatus[status])\n",
    "\n",
    "# Print the solution\n",
    "print('\\nsolution:')\n",
    "print('x0 =',value(x0))\n",
    "print('x3 =',value(x3))\n",
    "print('x6 =',value(x6))\n",
    "print('x9 =',value(x9))\n",
    "print('x12 =',value(x12))\n",
    "print('x15 =',value(x15))\n",
    "print('x18 =',value(x18))\n",
    "print('x21 =',value(x21))\n",
    "print('Optimal Z = ', value(prob.objective))"
   ]
  },
  {
   "cell_type": "markdown",
   "metadata": {},
   "source": [
    "### Exercice 2"
   ]
  },
  {
   "cell_type": "markdown",
   "metadata": {},
   "source": [
    "<img src=\"img/Screenshot_2.png\"/>"
   ]
  },
  {
   "cell_type": "markdown",
   "metadata": {},
   "source": [
    "#### Solution"
   ]
  },
  {
   "cell_type": "code",
   "execution_count": 2,
   "metadata": {},
   "outputs": [
    {
     "name": "stdout",
     "output_type": "stream",
     "text": [
      "LP problem:\n",
      "Giapetto:\n",
      "MINIMIZE\n",
      "2000*x + 3600*y + 0\n",
      "SUBJECT TO\n",
      "_C1: x + 3 y >= 30\n",
      "\n",
      "_C2: 3 x + 2 y >= 40\n",
      "\n",
      "_C3: 4 x + 6 y >= 90\n",
      "\n",
      "_C4: 2000 x + 3600 y <= 50000\n",
      "\n",
      "VARIABLES\n",
      "0 <= x Integer\n",
      "0 <= y Integer\n",
      "\n",
      "solution status:\n",
      "Optimal\n",
      "\n",
      "solution:\n",
      "x = 15.0\n",
      "y = 5.0\n",
      "Optimal Z =  48000.0\n"
     ]
    }
   ],
   "source": [
    "from pulp import *\n",
    "# Create a LP minimization problem\n",
    "prob = LpProblem(\"Giapetto\", LpMinimize)  \n",
    "\n",
    "# Create variables\n",
    "x = LpVariable(\"x\", lowBound=0, cat='Integer') \n",
    "y = LpVariable(\"y\", lowBound=0, cat='Integer')\n",
    "\n",
    "# Objective function\n",
    "prob += 2000*x + 3600*y\n",
    "\n",
    "# Sub constraints\n",
    "prob += x + 3*y >= 30\n",
    "prob += 3*x + 2*y >= 40 \n",
    "prob += 4*x + 6*y >= 90\n",
    "prob += 2000*x + 3600*y <= 50000\n",
    "\n",
    "# Display the LP problem\n",
    "print('LP problem:')\n",
    "print(prob)\n",
    "\n",
    "# Solve with the default solver\n",
    "status = prob.solve()\n",
    "# Print the solution status\n",
    "print('solution status:')\n",
    "print(LpStatus[status])\n",
    "\n",
    "# Print the solution\n",
    "print('\\nsolution:')\n",
    "print('x =',value(x))\n",
    "print('y =',value(y))\n",
    "print('Optimal Z = ', value(prob.objective))"
   ]
  },
  {
   "cell_type": "markdown",
   "metadata": {},
   "source": [
    "### Exercice 3"
   ]
  },
  {
   "cell_type": "markdown",
   "metadata": {},
   "source": [
    "<img src=\"img/Screenshot_3.png\"/>"
   ]
  },
  {
   "cell_type": "markdown",
   "metadata": {},
   "source": [
    "#### Solution"
   ]
  },
  {
   "cell_type": "code",
   "execution_count": 3,
   "metadata": {
    "scrolled": true
   },
   "outputs": [
    {
     "name": "stdout",
     "output_type": "stream",
     "text": [
      "LP problem:\n",
      "Giapetto:\n",
      "MINIMIZE\n",
      "1*xA + 1*xB + 1*xC + 1*xD + 2*xE + 0\n",
      "SUBJECT TO\n",
      "_C1: xA + xE = 1\n",
      "\n",
      "_C2: xA + xC + xD + xF >= 1\n",
      "\n",
      "_C3: xA + xB + xC + xE >= 1\n",
      "\n",
      "_C4: xA + xC + xD + xF <= 2\n",
      "\n",
      "_C5: - xA + xB - 3 xD + xF >= 0\n",
      "\n",
      "_C6: - 2.5 xA - 0.5 xB - 0.5 xC + 1.5 xD + 1.5 xE - 1.5 xF >= 0\n",
      "\n",
      "_C7: xA + xB <= 1\n",
      "\n",
      "_C8: xA + xC <= 1\n",
      "\n",
      "VARIABLES\n",
      "0 <= xA <= 1 Integer\n",
      "0 <= xB <= 1 Integer\n",
      "0 <= xC <= 1 Integer\n",
      "0 <= xD <= 1 Integer\n",
      "0 <= xE <= 1 Integer\n",
      "0 <= xF <= 1 Integer\n",
      "\n",
      "solution status:\n",
      "Optimal\n",
      "\n",
      "solution:\n",
      "xA = 0.0\n",
      "xB = 0.0\n",
      "xC = 0.0\n",
      "xD = 0.0\n",
      "xE = 1.0\n",
      "xF = 1.0\n",
      "Optimal Z =  2.0\n"
     ]
    }
   ],
   "source": [
    "from pulp import *\n",
    "# Create a LP minimization problem\n",
    "prob = LpProblem(\"Giapetto\", LpMinimize)  \n",
    "\n",
    "# Create variables\n",
    "xA = LpVariable(\"xA\", cat='Binary')\n",
    "xB = LpVariable(\"xB\", cat='Binary') \n",
    "xC = LpVariable(\"xC\", cat='Binary') \n",
    "xD = LpVariable(\"xD\", cat='Binary') \n",
    "xE = LpVariable(\"xE\", cat='Binary') \n",
    "xF = LpVariable(\"xF\", cat='Binary') \n",
    "\n",
    "# Objective function\n",
    "prob += xA + xB + xC + xD + xE + xE\n",
    "\n",
    "# Sub constraints\n",
    "prob += xA + xE == 1\n",
    "prob += xA + xC + xD + xF >= 1\n",
    "prob += xA + xC + xB + xE >= 1\n",
    "prob += xA + xC + xD + xF <= 2\n",
    "prob += -xA + xB - 3*xD + xF >= 0\n",
    "prob += -2.5*xA - 0.5*xB - 0.5*xC + 1.5*xD + 1.5*xE - 1.5*xF >= 0\n",
    "prob += xA + xB <= 1\n",
    "prob += xA + xC <= 1\n",
    "\n",
    "# Display the LP problem\n",
    "print('LP problem:')\n",
    "print(prob)\n",
    "\n",
    "# Solve with the default solver\n",
    "status = prob.solve()\n",
    "# Print the solution status\n",
    "print('solution status:')\n",
    "print(LpStatus[status])\n",
    "\n",
    "# Print the solution\n",
    "print('\\nsolution:')\n",
    "print('xA =',value(xA))\n",
    "print('xB =',value(xB))\n",
    "print('xC =',value(xC))\n",
    "print('xD =',value(xD))\n",
    "print('xE =',value(xE))\n",
    "print('xF =',value(xF))\n",
    "\n",
    "print('Optimal Z = ', value(prob.objective))"
   ]
  },
  {
   "cell_type": "markdown",
   "metadata": {},
   "source": [
    "##  Maximization Problems"
   ]
  },
  {
   "cell_type": "markdown",
   "metadata": {},
   "source": [
    "### Exercice 1"
   ]
  },
  {
   "cell_type": "markdown",
   "metadata": {},
   "source": [
    "<img src=\"img/Screenshot_4.png\"/>"
   ]
  },
  {
   "cell_type": "markdown",
   "metadata": {},
   "source": [
    "#### Solution"
   ]
  },
  {
   "cell_type": "code",
   "execution_count": 4,
   "metadata": {},
   "outputs": [
    {
     "name": "stdout",
     "output_type": "stream",
     "text": [
      "LP problem:\n",
      "Giapetto:\n",
      "MAXIMIZE\n",
      "0.5*x1 + 0.4*x2 + 0.0\n",
      "SUBJECT TO\n",
      "_C1: 2 x1 + 1.5 x2 <= 600\n",
      "\n",
      "_C2: x1 + x2 <= 600\n",
      "\n",
      "_C3: x1 <= 400\n",
      "\n",
      "_C4: x2 <= 350\n",
      "\n",
      "_C5: x1 >= 50\n",
      "\n",
      "VARIABLES\n",
      "x1 free Integer\n",
      "x2 free Integer\n",
      "\n",
      "solution status:\n",
      "Optimal\n",
      "\n",
      "solution:\n",
      "x1 = 51.0\n",
      "x2 = 332.0\n",
      "Optimal Z =  158.3\n"
     ]
    }
   ],
   "source": [
    "from pulp import *\n",
    "# Create a LP maximization problem\n",
    "prob = LpProblem(\"Giapetto\", LpMaximize)  \n",
    "\n",
    "# Create variables\n",
    "x1 = LpVariable(\"x1\", cat='Integer')\n",
    "x2 = LpVariable(\"x2\", cat='Integer') \n",
    "\n",
    "# Objective function\n",
    "prob += 0.5*x1 + 0.4*x2 \n",
    "\n",
    "# Sub constraints\n",
    "prob += 2*x1 + 1.5*x2 <= 600\n",
    "prob += x1 + x2 <= 600\n",
    "prob += x1 <= 400\n",
    "prob += x2 <= 350\n",
    "prob += x1 >= 50\n",
    "\n",
    "# Display the LP problem\n",
    "print('LP problem:')\n",
    "print(prob)\n",
    "\n",
    "# Solve with the default solver\n",
    "status = prob.solve()\n",
    "# Print the solution status\n",
    "print('solution status:')\n",
    "print(LpStatus[status])\n",
    "\n",
    "# Print the solution\n",
    "print('\\nsolution:')\n",
    "print('x1 =',value(x1))\n",
    "print('x2 =',value(x2))\n",
    "\n",
    "print('Optimal Z = ', value(prob.objective))"
   ]
  },
  {
   "cell_type": "markdown",
   "metadata": {},
   "source": [
    "### Exercice 2"
   ]
  },
  {
   "cell_type": "markdown",
   "metadata": {},
   "source": [
    "<img src=\"img/Screenshot_5.png\"/>"
   ]
  },
  {
   "cell_type": "markdown",
   "metadata": {},
   "source": [
    "#### Solution"
   ]
  },
  {
   "cell_type": "code",
   "execution_count": 5,
   "metadata": {},
   "outputs": [
    {
     "name": "stdout",
     "output_type": "stream",
     "text": [
      "LP problem:\n",
      "Giapetto:\n",
      "MAXIMIZE\n",
      "180*x1 + 60*x2 + 40*x3 + 0\n",
      "SUBJECT TO\n",
      "_C1: 8 x1 + 6 x2 + x3 <= 240\n",
      "\n",
      "_C2: 4 x1 + 2 x2 + 1.5 x3 <= 100\n",
      "\n",
      "_C3: 2 x1 + 1.5 x2 + 0.5 x3 <= 40\n",
      "\n",
      "_C4: x2 >= 5\n",
      "\n",
      "_C5: - 4 x2 + x3 >= 0\n",
      "\n",
      "VARIABLES\n",
      "x1 free Integer\n",
      "x2 free Integer\n",
      "x3 free Integer\n",
      "\n",
      "solution status:\n",
      "Optimal\n",
      "\n",
      "solution:\n",
      "x1 = 11.0\n",
      "x2 = 5.0\n",
      "x3 = 21.0\n",
      "Optimal Z =  3120.0\n"
     ]
    }
   ],
   "source": [
    "from pulp import *\n",
    "# Create a LP maximization problem\n",
    "prob = LpProblem(\"Giapetto\", LpMaximize)  \n",
    "\n",
    "# Create variables\n",
    "x1 = LpVariable(\"x1\", cat='Integer')\n",
    "x2 = LpVariable(\"x2\", cat='Integer')\n",
    "x3 = LpVariable(\"x3\", cat='Integer') \n",
    "\n",
    "# Objective function\n",
    "prob += 180*x1 + 60*x2 + 40*x3 \n",
    "\n",
    "# Sub constraints\n",
    "prob += 8*x1 + 6*x2 + x3 <= 240\n",
    "prob += 4*x1 + 2*x2 + 1.5*x3 <= 100\n",
    "prob += 2*x1 + 1.5*x2 + 0.5*x3 <= 40\n",
    "prob += x2 >= 5\n",
    "prob += - 4*x2 + x3 >= 0\n",
    "\n",
    "# Display the LP problem\n",
    "print('LP problem:')\n",
    "print(prob)\n",
    "\n",
    "# Solve with the default solver\n",
    "status = prob.solve()\n",
    "# Print the solution status\n",
    "print('solution status:')\n",
    "print(LpStatus[status])\n",
    "\n",
    "# Print the solution\n",
    "print('\\nsolution:')\n",
    "print('x1 =',value(x1))\n",
    "print('x2 =',value(x2))\n",
    "print('x3 =',value(x3))\n",
    "\n",
    "print('Optimal Z = ', value(prob.objective))"
   ]
  }
 ],
 "metadata": {
  "kernelspec": {
   "display_name": "Python 3",
   "language": "python",
   "name": "python3"
  },
  "language_info": {
   "codemirror_mode": {
    "name": "ipython",
    "version": 3
   },
   "file_extension": ".py",
   "mimetype": "text/x-python",
   "name": "python",
   "nbconvert_exporter": "python",
   "pygments_lexer": "ipython3",
   "version": "3.7.5"
  }
 },
 "nbformat": 4,
 "nbformat_minor": 4
}
